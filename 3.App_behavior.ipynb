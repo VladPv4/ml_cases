{
 "cells": [
  {
   "cell_type": "code",
   "execution_count": 152,
   "metadata": {},
   "outputs": [],
   "source": [
    "import pandas as pd\n",
    "import numpy as np\n",
    "import matplotlib.pyplot as plt\n",
    "import seaborn as sns\n",
    "from dateutil import parser\n",
    "import time\n",
    "\n",
    "from sklearn.model_selection import train_test_split\n",
    "from sklearn.preprocessing import StandardScaler\n",
    "from sklearn.linear_model import LogisticRegression\n",
    "from sklearn.metrics import confusion_matrix, accuracy_score, recall_score, f1_score, precision_score\n",
    "from sklearn.model_selection import cross_val_score"
   ]
  },
  {
   "cell_type": "code",
   "execution_count": 3,
   "metadata": {},
   "outputs": [],
   "source": [
    "dataset = pd.read_csv('/Users/vladpivovarov/Documents/Python/Udemy-2/5.Data/P39-CS3-Data/appdata10.csv')"
   ]
  },
  {
   "cell_type": "code",
   "execution_count": 5,
   "metadata": {},
   "outputs": [
    {
     "data": {
      "text/html": [
       "<div>\n",
       "<style scoped>\n",
       "    .dataframe tbody tr th:only-of-type {\n",
       "        vertical-align: middle;\n",
       "    }\n",
       "\n",
       "    .dataframe tbody tr th {\n",
       "        vertical-align: top;\n",
       "    }\n",
       "\n",
       "    .dataframe thead th {\n",
       "        text-align: right;\n",
       "    }\n",
       "</style>\n",
       "<table border=\"1\" class=\"dataframe\">\n",
       "  <thead>\n",
       "    <tr style=\"text-align: right;\">\n",
       "      <th></th>\n",
       "      <th>user</th>\n",
       "      <th>first_open</th>\n",
       "      <th>dayofweek</th>\n",
       "      <th>hour</th>\n",
       "      <th>age</th>\n",
       "      <th>screen_list</th>\n",
       "      <th>numscreens</th>\n",
       "      <th>minigame</th>\n",
       "      <th>used_premium_feature</th>\n",
       "      <th>enrolled</th>\n",
       "      <th>enrolled_date</th>\n",
       "      <th>liked</th>\n",
       "    </tr>\n",
       "  </thead>\n",
       "  <tbody>\n",
       "    <tr>\n",
       "      <th>0</th>\n",
       "      <td>235136</td>\n",
       "      <td>2012-12-27 02:14:51.273</td>\n",
       "      <td>3</td>\n",
       "      <td>02:00:00</td>\n",
       "      <td>23</td>\n",
       "      <td>idscreen,joinscreen,Cycle,product_review,ScanP...</td>\n",
       "      <td>15</td>\n",
       "      <td>0</td>\n",
       "      <td>0</td>\n",
       "      <td>0</td>\n",
       "      <td>NaN</td>\n",
       "      <td>0</td>\n",
       "    </tr>\n",
       "    <tr>\n",
       "      <th>1</th>\n",
       "      <td>333588</td>\n",
       "      <td>2012-12-02 01:16:00.905</td>\n",
       "      <td>6</td>\n",
       "      <td>01:00:00</td>\n",
       "      <td>24</td>\n",
       "      <td>joinscreen,product_review,product_review2,Scan...</td>\n",
       "      <td>13</td>\n",
       "      <td>0</td>\n",
       "      <td>0</td>\n",
       "      <td>0</td>\n",
       "      <td>NaN</td>\n",
       "      <td>0</td>\n",
       "    </tr>\n",
       "    <tr>\n",
       "      <th>2</th>\n",
       "      <td>254414</td>\n",
       "      <td>2013-03-19 19:19:09.157</td>\n",
       "      <td>1</td>\n",
       "      <td>19:00:00</td>\n",
       "      <td>23</td>\n",
       "      <td>Splash,Cycle,Loan</td>\n",
       "      <td>3</td>\n",
       "      <td>0</td>\n",
       "      <td>1</td>\n",
       "      <td>0</td>\n",
       "      <td>NaN</td>\n",
       "      <td>1</td>\n",
       "    </tr>\n",
       "    <tr>\n",
       "      <th>3</th>\n",
       "      <td>234192</td>\n",
       "      <td>2013-07-05 16:08:46.354</td>\n",
       "      <td>4</td>\n",
       "      <td>16:00:00</td>\n",
       "      <td>28</td>\n",
       "      <td>product_review,Home,product_review,Loan3,Finan...</td>\n",
       "      <td>40</td>\n",
       "      <td>0</td>\n",
       "      <td>0</td>\n",
       "      <td>1</td>\n",
       "      <td>2013-07-05 16:11:49.513</td>\n",
       "      <td>0</td>\n",
       "    </tr>\n",
       "    <tr>\n",
       "      <th>4</th>\n",
       "      <td>51549</td>\n",
       "      <td>2013-02-26 18:50:48.661</td>\n",
       "      <td>1</td>\n",
       "      <td>18:00:00</td>\n",
       "      <td>31</td>\n",
       "      <td>idscreen,joinscreen,Cycle,Credit3Container,Sca...</td>\n",
       "      <td>32</td>\n",
       "      <td>0</td>\n",
       "      <td>0</td>\n",
       "      <td>1</td>\n",
       "      <td>2013-02-26 18:56:37.841</td>\n",
       "      <td>1</td>\n",
       "    </tr>\n",
       "  </tbody>\n",
       "</table>\n",
       "</div>"
      ],
      "text/plain": [
       "     user               first_open  dayofweek       hour  age  \\\n",
       "0  235136  2012-12-27 02:14:51.273          3   02:00:00   23   \n",
       "1  333588  2012-12-02 01:16:00.905          6   01:00:00   24   \n",
       "2  254414  2013-03-19 19:19:09.157          1   19:00:00   23   \n",
       "3  234192  2013-07-05 16:08:46.354          4   16:00:00   28   \n",
       "4   51549  2013-02-26 18:50:48.661          1   18:00:00   31   \n",
       "\n",
       "                                         screen_list  numscreens  minigame  \\\n",
       "0  idscreen,joinscreen,Cycle,product_review,ScanP...          15         0   \n",
       "1  joinscreen,product_review,product_review2,Scan...          13         0   \n",
       "2                                  Splash,Cycle,Loan           3         0   \n",
       "3  product_review,Home,product_review,Loan3,Finan...          40         0   \n",
       "4  idscreen,joinscreen,Cycle,Credit3Container,Sca...          32         0   \n",
       "\n",
       "   used_premium_feature  enrolled            enrolled_date  liked  \n",
       "0                     0         0                      NaN      0  \n",
       "1                     0         0                      NaN      0  \n",
       "2                     1         0                      NaN      1  \n",
       "3                     0         1  2013-07-05 16:11:49.513      0  \n",
       "4                     0         1  2013-02-26 18:56:37.841      1  "
      ]
     },
     "execution_count": 5,
     "metadata": {},
     "output_type": "execute_result"
    }
   ],
   "source": [
    "dataset.head()"
   ]
  },
  {
   "cell_type": "code",
   "execution_count": 10,
   "metadata": {},
   "outputs": [
    {
     "name": "stdout",
     "output_type": "stream",
     "text": [
      "<class 'pandas.core.frame.DataFrame'>\n",
      "RangeIndex: 50000 entries, 0 to 49999\n",
      "Data columns (total 12 columns):\n",
      "user                    50000 non-null int64\n",
      "first_open              50000 non-null object\n",
      "dayofweek               50000 non-null int64\n",
      "hour                    50000 non-null int64\n",
      "age                     50000 non-null int64\n",
      "screen_list             50000 non-null object\n",
      "numscreens              50000 non-null int64\n",
      "minigame                50000 non-null int64\n",
      "used_premium_feature    50000 non-null int64\n",
      "enrolled                50000 non-null int64\n",
      "enrolled_date           31074 non-null object\n",
      "liked                   50000 non-null int64\n",
      "dtypes: int64(9), object(3)\n",
      "memory usage: 4.6+ MB\n"
     ]
    }
   ],
   "source": [
    "dataset.info()"
   ]
  },
  {
   "cell_type": "code",
   "execution_count": 6,
   "metadata": {},
   "outputs": [
    {
     "data": {
      "text/html": [
       "<div>\n",
       "<style scoped>\n",
       "    .dataframe tbody tr th:only-of-type {\n",
       "        vertical-align: middle;\n",
       "    }\n",
       "\n",
       "    .dataframe tbody tr th {\n",
       "        vertical-align: top;\n",
       "    }\n",
       "\n",
       "    .dataframe thead th {\n",
       "        text-align: right;\n",
       "    }\n",
       "</style>\n",
       "<table border=\"1\" class=\"dataframe\">\n",
       "  <thead>\n",
       "    <tr style=\"text-align: right;\">\n",
       "      <th></th>\n",
       "      <th>user</th>\n",
       "      <th>dayofweek</th>\n",
       "      <th>age</th>\n",
       "      <th>numscreens</th>\n",
       "      <th>minigame</th>\n",
       "      <th>used_premium_feature</th>\n",
       "      <th>enrolled</th>\n",
       "      <th>liked</th>\n",
       "    </tr>\n",
       "  </thead>\n",
       "  <tbody>\n",
       "    <tr>\n",
       "      <th>count</th>\n",
       "      <td>50000.000000</td>\n",
       "      <td>50000.000000</td>\n",
       "      <td>50000.00000</td>\n",
       "      <td>50000.000000</td>\n",
       "      <td>50000.000000</td>\n",
       "      <td>50000.000000</td>\n",
       "      <td>50000.000000</td>\n",
       "      <td>50000.000000</td>\n",
       "    </tr>\n",
       "    <tr>\n",
       "      <th>mean</th>\n",
       "      <td>186889.729900</td>\n",
       "      <td>3.029860</td>\n",
       "      <td>31.72436</td>\n",
       "      <td>21.095900</td>\n",
       "      <td>0.107820</td>\n",
       "      <td>0.172020</td>\n",
       "      <td>0.621480</td>\n",
       "      <td>0.165000</td>\n",
       "    </tr>\n",
       "    <tr>\n",
       "      <th>std</th>\n",
       "      <td>107768.520361</td>\n",
       "      <td>2.031997</td>\n",
       "      <td>10.80331</td>\n",
       "      <td>15.728812</td>\n",
       "      <td>0.310156</td>\n",
       "      <td>0.377402</td>\n",
       "      <td>0.485023</td>\n",
       "      <td>0.371184</td>\n",
       "    </tr>\n",
       "    <tr>\n",
       "      <th>min</th>\n",
       "      <td>13.000000</td>\n",
       "      <td>0.000000</td>\n",
       "      <td>16.00000</td>\n",
       "      <td>1.000000</td>\n",
       "      <td>0.000000</td>\n",
       "      <td>0.000000</td>\n",
       "      <td>0.000000</td>\n",
       "      <td>0.000000</td>\n",
       "    </tr>\n",
       "    <tr>\n",
       "      <th>25%</th>\n",
       "      <td>93526.750000</td>\n",
       "      <td>1.000000</td>\n",
       "      <td>24.00000</td>\n",
       "      <td>10.000000</td>\n",
       "      <td>0.000000</td>\n",
       "      <td>0.000000</td>\n",
       "      <td>0.000000</td>\n",
       "      <td>0.000000</td>\n",
       "    </tr>\n",
       "    <tr>\n",
       "      <th>50%</th>\n",
       "      <td>187193.500000</td>\n",
       "      <td>3.000000</td>\n",
       "      <td>29.00000</td>\n",
       "      <td>18.000000</td>\n",
       "      <td>0.000000</td>\n",
       "      <td>0.000000</td>\n",
       "      <td>1.000000</td>\n",
       "      <td>0.000000</td>\n",
       "    </tr>\n",
       "    <tr>\n",
       "      <th>75%</th>\n",
       "      <td>279984.250000</td>\n",
       "      <td>5.000000</td>\n",
       "      <td>37.00000</td>\n",
       "      <td>28.000000</td>\n",
       "      <td>0.000000</td>\n",
       "      <td>0.000000</td>\n",
       "      <td>1.000000</td>\n",
       "      <td>0.000000</td>\n",
       "    </tr>\n",
       "    <tr>\n",
       "      <th>max</th>\n",
       "      <td>373662.000000</td>\n",
       "      <td>6.000000</td>\n",
       "      <td>101.00000</td>\n",
       "      <td>325.000000</td>\n",
       "      <td>1.000000</td>\n",
       "      <td>1.000000</td>\n",
       "      <td>1.000000</td>\n",
       "      <td>1.000000</td>\n",
       "    </tr>\n",
       "  </tbody>\n",
       "</table>\n",
       "</div>"
      ],
      "text/plain": [
       "                user     dayofweek          age    numscreens      minigame  \\\n",
       "count   50000.000000  50000.000000  50000.00000  50000.000000  50000.000000   \n",
       "mean   186889.729900      3.029860     31.72436     21.095900      0.107820   \n",
       "std    107768.520361      2.031997     10.80331     15.728812      0.310156   \n",
       "min        13.000000      0.000000     16.00000      1.000000      0.000000   \n",
       "25%     93526.750000      1.000000     24.00000     10.000000      0.000000   \n",
       "50%    187193.500000      3.000000     29.00000     18.000000      0.000000   \n",
       "75%    279984.250000      5.000000     37.00000     28.000000      0.000000   \n",
       "max    373662.000000      6.000000    101.00000    325.000000      1.000000   \n",
       "\n",
       "       used_premium_feature      enrolled         liked  \n",
       "count          50000.000000  50000.000000  50000.000000  \n",
       "mean               0.172020      0.621480      0.165000  \n",
       "std                0.377402      0.485023      0.371184  \n",
       "min                0.000000      0.000000      0.000000  \n",
       "25%                0.000000      0.000000      0.000000  \n",
       "50%                0.000000      1.000000      0.000000  \n",
       "75%                0.000000      1.000000      0.000000  \n",
       "max                1.000000      1.000000      1.000000  "
      ]
     },
     "execution_count": 6,
     "metadata": {},
     "output_type": "execute_result"
    }
   ],
   "source": [
    "dataset.describe()"
   ]
  },
  {
   "cell_type": "code",
   "execution_count": 8,
   "metadata": {},
   "outputs": [],
   "source": [
    "dataset['hour'] = dataset.hour.str.slice(1,3).astype(int)"
   ]
  },
  {
   "cell_type": "code",
   "execution_count": 9,
   "metadata": {},
   "outputs": [
    {
     "data": {
      "text/plain": [
       "0         2\n",
       "1         1\n",
       "2        19\n",
       "3        16\n",
       "4        18\n",
       "5         9\n",
       "6         2\n",
       "7         3\n",
       "8        14\n",
       "9        18\n",
       "10        4\n",
       "11       11\n",
       "12        6\n",
       "13       19\n",
       "14        4\n",
       "15       18\n",
       "16       16\n",
       "17       21\n",
       "18        5\n",
       "19       17\n",
       "20        9\n",
       "21        4\n",
       "22       17\n",
       "23        2\n",
       "24       20\n",
       "25       18\n",
       "26       16\n",
       "27        1\n",
       "28       11\n",
       "29       17\n",
       "         ..\n",
       "49970    15\n",
       "49971    11\n",
       "49972    15\n",
       "49973    18\n",
       "49974    20\n",
       "49975    18\n",
       "49976    20\n",
       "49977    15\n",
       "49978    17\n",
       "49979    14\n",
       "49980     7\n",
       "49981     4\n",
       "49982     2\n",
       "49983    13\n",
       "49984    16\n",
       "49985    23\n",
       "49986    18\n",
       "49987    19\n",
       "49988     2\n",
       "49989    17\n",
       "49990    17\n",
       "49991    22\n",
       "49992    15\n",
       "49993     2\n",
       "49994    19\n",
       "49995    13\n",
       "49996     0\n",
       "49997    22\n",
       "49998    12\n",
       "49999     1\n",
       "Name: hour, Length: 50000, dtype: int64"
      ]
     },
     "execution_count": 9,
     "metadata": {},
     "output_type": "execute_result"
    }
   ],
   "source": [
    "dataset['hour']"
   ]
  },
  {
   "cell_type": "code",
   "execution_count": 14,
   "metadata": {},
   "outputs": [],
   "source": [
    "dataset2 = dataset.copy().drop(columns = ['user','screen_list','enrolled_date','first_open','enrolled'])"
   ]
  },
  {
   "cell_type": "code",
   "execution_count": 15,
   "metadata": {},
   "outputs": [
    {
     "data": {
      "text/html": [
       "<div>\n",
       "<style scoped>\n",
       "    .dataframe tbody tr th:only-of-type {\n",
       "        vertical-align: middle;\n",
       "    }\n",
       "\n",
       "    .dataframe tbody tr th {\n",
       "        vertical-align: top;\n",
       "    }\n",
       "\n",
       "    .dataframe thead th {\n",
       "        text-align: right;\n",
       "    }\n",
       "</style>\n",
       "<table border=\"1\" class=\"dataframe\">\n",
       "  <thead>\n",
       "    <tr style=\"text-align: right;\">\n",
       "      <th></th>\n",
       "      <th>dayofweek</th>\n",
       "      <th>hour</th>\n",
       "      <th>age</th>\n",
       "      <th>numscreens</th>\n",
       "      <th>minigame</th>\n",
       "      <th>used_premium_feature</th>\n",
       "      <th>liked</th>\n",
       "    </tr>\n",
       "  </thead>\n",
       "  <tbody>\n",
       "    <tr>\n",
       "      <th>0</th>\n",
       "      <td>3</td>\n",
       "      <td>2</td>\n",
       "      <td>23</td>\n",
       "      <td>15</td>\n",
       "      <td>0</td>\n",
       "      <td>0</td>\n",
       "      <td>0</td>\n",
       "    </tr>\n",
       "    <tr>\n",
       "      <th>1</th>\n",
       "      <td>6</td>\n",
       "      <td>1</td>\n",
       "      <td>24</td>\n",
       "      <td>13</td>\n",
       "      <td>0</td>\n",
       "      <td>0</td>\n",
       "      <td>0</td>\n",
       "    </tr>\n",
       "    <tr>\n",
       "      <th>2</th>\n",
       "      <td>1</td>\n",
       "      <td>19</td>\n",
       "      <td>23</td>\n",
       "      <td>3</td>\n",
       "      <td>0</td>\n",
       "      <td>1</td>\n",
       "      <td>1</td>\n",
       "    </tr>\n",
       "    <tr>\n",
       "      <th>3</th>\n",
       "      <td>4</td>\n",
       "      <td>16</td>\n",
       "      <td>28</td>\n",
       "      <td>40</td>\n",
       "      <td>0</td>\n",
       "      <td>0</td>\n",
       "      <td>0</td>\n",
       "    </tr>\n",
       "    <tr>\n",
       "      <th>4</th>\n",
       "      <td>1</td>\n",
       "      <td>18</td>\n",
       "      <td>31</td>\n",
       "      <td>32</td>\n",
       "      <td>0</td>\n",
       "      <td>0</td>\n",
       "      <td>1</td>\n",
       "    </tr>\n",
       "  </tbody>\n",
       "</table>\n",
       "</div>"
      ],
      "text/plain": [
       "   dayofweek  hour  age  numscreens  minigame  used_premium_feature  liked\n",
       "0          3     2   23          15         0                     0      0\n",
       "1          6     1   24          13         0                     0      0\n",
       "2          1    19   23           3         0                     1      1\n",
       "3          4    16   28          40         0                     0      0\n",
       "4          1    18   31          32         0                     0      1"
      ]
     },
     "execution_count": 15,
     "metadata": {},
     "output_type": "execute_result"
    }
   ],
   "source": [
    "dataset2.head()"
   ]
  },
  {
   "cell_type": "code",
   "execution_count": 21,
   "metadata": {},
   "outputs": [
    {
     "data": {
      "image/png": "[encoded data removed]",
      "text/plain": [
       "<Figure size 432x288 with 7 Axes>"
      ]
     },
     "metadata": {
      "needs_background": "light"
     },
     "output_type": "display_data"
    }
   ],
   "source": [
    "#Histograms\n",
    "plt.suptitle('Histogram of numerical columns', fontsize = 20)\n",
    "for i in range(1,dataset2.shape[1] + 1):\n",
    "    plt.subplot(3,3,i)\n",
    "    f = plt.gca()\n",
    "    f.set_title(dataset2.columns.values[i - 1])\n",
    "#    plt.figure(figsize=(3,4))\n",
    "    vals = np.size(dataset2.iloc[:,i - 1].unique())\n",
    "    plt.hist(dataset2.iloc[:,i - 1], bins = vals, color = '#3F5D7D')\n",
    "    \n",
    "    "
   ]
  },
  {
   "cell_type": "code",
   "execution_count": 27,
   "metadata": {},
   "outputs": [
    {
     "data": {
      "text/plain": [
       "<matplotlib.axes._subplots.AxesSubplot at 0x1a26e381d0>"
      ]
     },
     "execution_count": 27,
     "metadata": {},
     "output_type": "execute_result"
    },
    {
     "data": {
      "image/png": "[encoded data removed]",
      "text/plain": [
       "<Figure size 1440x720 with 1 Axes>"
      ]
     },
     "metadata": {
      "needs_background": "light"
     },
     "output_type": "display_data"
    }
   ],
   "source": [
    "#Correlation with Respose\n",
    "dataset2.corrwith(dataset.enrolled).plot.bar(figsize=(20,10), \n",
    "                                             title='Correlation with Response', \n",
    "                                             fontsize=15, rot=45, grid=True)"
   ]
  },
  {
   "cell_type": "code",
   "execution_count": 28,
   "metadata": {},
   "outputs": [
    {
     "data": {
      "text/plain": [
       "<matplotlib.axes._subplots.AxesSubplot at 0x1a253319e8>"
      ]
     },
     "execution_count": 28,
     "metadata": {},
     "output_type": "execute_result"
    },
    {
     "data": {
      "image/png": "[encoded data removed]",
      "text/plain": [
       "<Figure size 432x288 with 2 Axes>"
      ]
     },
     "metadata": {
      "needs_background": "light"
     },
     "output_type": "display_data"
    }
   ],
   "source": [
    "#Correlation Matrix\n",
    "sns.heatmap(dataset2.corr(), annot=True)\n"
   ]
  },
  {
   "cell_type": "code",
   "execution_count": 32,
   "metadata": {},
   "outputs": [
    {
     "data": {
      "text/html": [
       "<div>\n",
       "<style scoped>\n",
       "    .dataframe tbody tr th:only-of-type {\n",
       "        vertical-align: middle;\n",
       "    }\n",
       "\n",
       "    .dataframe tbody tr th {\n",
       "        vertical-align: top;\n",
       "    }\n",
       "\n",
       "    .dataframe thead th {\n",
       "        text-align: right;\n",
       "    }\n",
       "</style>\n",
       "<table border=\"1\" class=\"dataframe\">\n",
       "  <thead>\n",
       "    <tr style=\"text-align: right;\">\n",
       "      <th></th>\n",
       "      <th>user</th>\n",
       "      <th>first_open</th>\n",
       "      <th>dayofweek</th>\n",
       "      <th>hour</th>\n",
       "      <th>age</th>\n",
       "      <th>screen_list</th>\n",
       "      <th>numscreens</th>\n",
       "      <th>minigame</th>\n",
       "      <th>used_premium_feature</th>\n",
       "      <th>enrolled</th>\n",
       "      <th>enrolled_date</th>\n",
       "      <th>liked</th>\n",
       "    </tr>\n",
       "  </thead>\n",
       "  <tbody>\n",
       "    <tr>\n",
       "      <th>0</th>\n",
       "      <td>235136</td>\n",
       "      <td>2012-12-27 02:14:51.273</td>\n",
       "      <td>3</td>\n",
       "      <td>2</td>\n",
       "      <td>23</td>\n",
       "      <td>idscreen,joinscreen,Cycle,product_review,ScanP...</td>\n",
       "      <td>15</td>\n",
       "      <td>0</td>\n",
       "      <td>0</td>\n",
       "      <td>0</td>\n",
       "      <td>NaN</td>\n",
       "      <td>0</td>\n",
       "    </tr>\n",
       "    <tr>\n",
       "      <th>1</th>\n",
       "      <td>333588</td>\n",
       "      <td>2012-12-02 01:16:00.905</td>\n",
       "      <td>6</td>\n",
       "      <td>1</td>\n",
       "      <td>24</td>\n",
       "      <td>joinscreen,product_review,product_review2,Scan...</td>\n",
       "      <td>13</td>\n",
       "      <td>0</td>\n",
       "      <td>0</td>\n",
       "      <td>0</td>\n",
       "      <td>NaN</td>\n",
       "      <td>0</td>\n",
       "    </tr>\n",
       "    <tr>\n",
       "      <th>2</th>\n",
       "      <td>254414</td>\n",
       "      <td>2013-03-19 19:19:09.157</td>\n",
       "      <td>1</td>\n",
       "      <td>19</td>\n",
       "      <td>23</td>\n",
       "      <td>Splash,Cycle,Loan</td>\n",
       "      <td>3</td>\n",
       "      <td>0</td>\n",
       "      <td>1</td>\n",
       "      <td>0</td>\n",
       "      <td>NaN</td>\n",
       "      <td>1</td>\n",
       "    </tr>\n",
       "    <tr>\n",
       "      <th>3</th>\n",
       "      <td>234192</td>\n",
       "      <td>2013-07-05 16:08:46.354</td>\n",
       "      <td>4</td>\n",
       "      <td>16</td>\n",
       "      <td>28</td>\n",
       "      <td>product_review,Home,product_review,Loan3,Finan...</td>\n",
       "      <td>40</td>\n",
       "      <td>0</td>\n",
       "      <td>0</td>\n",
       "      <td>1</td>\n",
       "      <td>2013-07-05 16:11:49.513</td>\n",
       "      <td>0</td>\n",
       "    </tr>\n",
       "    <tr>\n",
       "      <th>4</th>\n",
       "      <td>51549</td>\n",
       "      <td>2013-02-26 18:50:48.661</td>\n",
       "      <td>1</td>\n",
       "      <td>18</td>\n",
       "      <td>31</td>\n",
       "      <td>idscreen,joinscreen,Cycle,Credit3Container,Sca...</td>\n",
       "      <td>32</td>\n",
       "      <td>0</td>\n",
       "      <td>0</td>\n",
       "      <td>1</td>\n",
       "      <td>2013-02-26 18:56:37.841</td>\n",
       "      <td>1</td>\n",
       "    </tr>\n",
       "  </tbody>\n",
       "</table>\n",
       "</div>"
      ],
      "text/plain": [
       "     user               first_open  dayofweek  hour  age  \\\n",
       "0  235136  2012-12-27 02:14:51.273          3     2   23   \n",
       "1  333588  2012-12-02 01:16:00.905          6     1   24   \n",
       "2  254414  2013-03-19 19:19:09.157          1    19   23   \n",
       "3  234192  2013-07-05 16:08:46.354          4    16   28   \n",
       "4   51549  2013-02-26 18:50:48.661          1    18   31   \n",
       "\n",
       "                                         screen_list  numscreens  minigame  \\\n",
       "0  idscreen,joinscreen,Cycle,product_review,ScanP...          15         0   \n",
       "1  joinscreen,product_review,product_review2,Scan...          13         0   \n",
       "2                                  Splash,Cycle,Loan           3         0   \n",
       "3  product_review,Home,product_review,Loan3,Finan...          40         0   \n",
       "4  idscreen,joinscreen,Cycle,Credit3Container,Sca...          32         0   \n",
       "\n",
       "   used_premium_feature  enrolled            enrolled_date  liked  \n",
       "0                     0         0                      NaN      0  \n",
       "1                     0         0                      NaN      0  \n",
       "2                     1         0                      NaN      1  \n",
       "3                     0         1  2013-07-05 16:11:49.513      0  \n",
       "4                     0         1  2013-02-26 18:56:37.841      1  "
      ]
     },
     "execution_count": 32,
     "metadata": {},
     "output_type": "execute_result"
    }
   ],
   "source": [
    "dataset.head()"
   ]
  },
  {
   "cell_type": "code",
   "execution_count": 36,
   "metadata": {},
   "outputs": [],
   "source": [
    "dataset3 = dataset.copy().drop(columns = ['user','first_open','screen_list','enrolled_date','first_open'])"
   ]
  },
  {
   "cell_type": "code",
   "execution_count": 37,
   "metadata": {},
   "outputs": [
    {
     "data": {
      "text/html": [
       "<div>\n",
       "<style scoped>\n",
       "    .dataframe tbody tr th:only-of-type {\n",
       "        vertical-align: middle;\n",
       "    }\n",
       "\n",
       "    .dataframe tbody tr th {\n",
       "        vertical-align: top;\n",
       "    }\n",
       "\n",
       "    .dataframe thead th {\n",
       "        text-align: right;\n",
       "    }\n",
       "</style>\n",
       "<table border=\"1\" class=\"dataframe\">\n",
       "  <thead>\n",
       "    <tr style=\"text-align: right;\">\n",
       "      <th></th>\n",
       "      <th>dayofweek</th>\n",
       "      <th>hour</th>\n",
       "      <th>age</th>\n",
       "      <th>numscreens</th>\n",
       "      <th>minigame</th>\n",
       "      <th>used_premium_feature</th>\n",
       "      <th>enrolled</th>\n",
       "      <th>liked</th>\n",
       "    </tr>\n",
       "  </thead>\n",
       "  <tbody>\n",
       "    <tr>\n",
       "      <th>0</th>\n",
       "      <td>3</td>\n",
       "      <td>2</td>\n",
       "      <td>23</td>\n",
       "      <td>15</td>\n",
       "      <td>0</td>\n",
       "      <td>0</td>\n",
       "      <td>0</td>\n",
       "      <td>0</td>\n",
       "    </tr>\n",
       "    <tr>\n",
       "      <th>1</th>\n",
       "      <td>6</td>\n",
       "      <td>1</td>\n",
       "      <td>24</td>\n",
       "      <td>13</td>\n",
       "      <td>0</td>\n",
       "      <td>0</td>\n",
       "      <td>0</td>\n",
       "      <td>0</td>\n",
       "    </tr>\n",
       "    <tr>\n",
       "      <th>2</th>\n",
       "      <td>1</td>\n",
       "      <td>19</td>\n",
       "      <td>23</td>\n",
       "      <td>3</td>\n",
       "      <td>0</td>\n",
       "      <td>1</td>\n",
       "      <td>0</td>\n",
       "      <td>1</td>\n",
       "    </tr>\n",
       "    <tr>\n",
       "      <th>3</th>\n",
       "      <td>4</td>\n",
       "      <td>16</td>\n",
       "      <td>28</td>\n",
       "      <td>40</td>\n",
       "      <td>0</td>\n",
       "      <td>0</td>\n",
       "      <td>1</td>\n",
       "      <td>0</td>\n",
       "    </tr>\n",
       "    <tr>\n",
       "      <th>4</th>\n",
       "      <td>1</td>\n",
       "      <td>18</td>\n",
       "      <td>31</td>\n",
       "      <td>32</td>\n",
       "      <td>0</td>\n",
       "      <td>0</td>\n",
       "      <td>1</td>\n",
       "      <td>1</td>\n",
       "    </tr>\n",
       "  </tbody>\n",
       "</table>\n",
       "</div>"
      ],
      "text/plain": [
       "   dayofweek  hour  age  numscreens  minigame  used_premium_feature  enrolled  \\\n",
       "0          3     2   23          15         0                     0         0   \n",
       "1          6     1   24          13         0                     0         0   \n",
       "2          1    19   23           3         0                     1         0   \n",
       "3          4    16   28          40         0                     0         1   \n",
       "4          1    18   31          32         0                     0         1   \n",
       "\n",
       "   liked  \n",
       "0      0  \n",
       "1      0  \n",
       "2      1  \n",
       "3      0  \n",
       "4      1  "
      ]
     },
     "execution_count": 37,
     "metadata": {},
     "output_type": "execute_result"
    }
   ],
   "source": [
    "dataset3.head()"
   ]
  },
  {
   "cell_type": "code",
   "execution_count": 38,
   "metadata": {},
   "outputs": [
    {
     "data": {
      "text/plain": [
       "<matplotlib.axes._subplots.AxesSubplot at 0x1a253508d0>"
      ]
     },
     "execution_count": 38,
     "metadata": {},
     "output_type": "execute_result"
    },
    {
     "data": {
      "image/png": "[encoded data removed]",
      "text/plain": [
       "<Figure size 432x288 with 2 Axes>"
      ]
     },
     "metadata": {
      "needs_background": "light"
     },
     "output_type": "display_data"
    }
   ],
   "source": [
    "sns.heatmap(dataset3.corr(), annot=True)"
   ]
  },
  {
   "cell_type": "code",
   "execution_count": 41,
   "metadata": {},
   "outputs": [
    {
     "data": {
      "text/plain": [
       "user                     int64\n",
       "first_open              object\n",
       "dayofweek                int64\n",
       "hour                     int64\n",
       "age                      int64\n",
       "screen_list             object\n",
       "numscreens               int64\n",
       "minigame                 int64\n",
       "used_premium_feature     int64\n",
       "enrolled                 int64\n",
       "enrolled_date           object\n",
       "liked                    int64\n",
       "dtype: object"
      ]
     },
     "execution_count": 41,
     "metadata": {},
     "output_type": "execute_result"
    }
   ],
   "source": [
    "# Feature Engineering\n",
    "# Date Features\n",
    "dataset.dtypes"
   ]
  },
  {
   "cell_type": "code",
   "execution_count": 42,
   "metadata": {},
   "outputs": [],
   "source": [
    "dataset['first_open'] = [parser.parse(row_data) for row_data in dataset['first_open']]\n",
    "dataset['enrolled_date'] = [parser.parse(row_data) if isinstance(row_data, str) else row_data for row_data in dataset['enrolled_date']]\n"
   ]
  },
  {
   "cell_type": "code",
   "execution_count": 43,
   "metadata": {},
   "outputs": [
    {
     "data": {
      "text/plain": [
       "user                             int64\n",
       "first_open              datetime64[ns]\n",
       "dayofweek                        int64\n",
       "hour                             int64\n",
       "age                              int64\n",
       "screen_list                     object\n",
       "numscreens                       int64\n",
       "minigame                         int64\n",
       "used_premium_feature             int64\n",
       "enrolled                         int64\n",
       "enrolled_date           datetime64[ns]\n",
       "liked                            int64\n",
       "dtype: object"
      ]
     },
     "execution_count": 43,
     "metadata": {},
     "output_type": "execute_result"
    }
   ],
   "source": [
    "dataset.dtypes"
   ]
  },
  {
   "cell_type": "code",
   "execution_count": 44,
   "metadata": {},
   "outputs": [],
   "source": [
    "dataset['difference'] = (dataset.enrolled_date - dataset.first_open).astype('timedelta64[h]')"
   ]
  },
  {
   "cell_type": "code",
   "execution_count": 48,
   "metadata": {},
   "outputs": [
    {
     "data": {
      "image/png": "[encoded data removed]",
      "text/plain": [
       "<Figure size 432x288 with 1 Axes>"
      ]
     },
     "metadata": {
      "needs_background": "light"
     },
     "output_type": "display_data"
    }
   ],
   "source": [
    "plt.hist(dataset['difference'].dropna(), color='#3F5D7D')\n",
    "plt.title('Distribution of Time-Since-Enrolled')\n",
    "plt.show()"
   ]
  },
  {
   "cell_type": "code",
   "execution_count": 53,
   "metadata": {},
   "outputs": [
    {
     "data": {
      "image/png": "[encoded data removed]",
      "text/plain": [
       "<Figure size 432x288 with 1 Axes>"
      ]
     },
     "metadata": {
      "needs_background": "light"
     },
     "output_type": "display_data"
    }
   ],
   "source": [
    "plt.hist(dataset['difference'].dropna(), color='#3F5D7D', range=[0,100])\n",
    "plt.title('Distribution of Time-Since-Enrolled')\n",
    "plt.show()"
   ]
  },
  {
   "cell_type": "code",
   "execution_count": 54,
   "metadata": {},
   "outputs": [],
   "source": [
    "dataset.loc[dataset.difference>48,'enrolled'] = 0"
   ]
  },
  {
   "cell_type": "code",
   "execution_count": 62,
   "metadata": {},
   "outputs": [],
   "source": [
    "dataset = dataset.drop(columns=['difference','enrolled_date','first_open'])"
   ]
  },
  {
   "cell_type": "code",
   "execution_count": 63,
   "metadata": {},
   "outputs": [
    {
     "data": {
      "text/html": [
       "<div>\n",
       "<style scoped>\n",
       "    .dataframe tbody tr th:only-of-type {\n",
       "        vertical-align: middle;\n",
       "    }\n",
       "\n",
       "    .dataframe tbody tr th {\n",
       "        vertical-align: top;\n",
       "    }\n",
       "\n",
       "    .dataframe thead th {\n",
       "        text-align: right;\n",
       "    }\n",
       "</style>\n",
       "<table border=\"1\" class=\"dataframe\">\n",
       "  <thead>\n",
       "    <tr style=\"text-align: right;\">\n",
       "      <th></th>\n",
       "      <th>user</th>\n",
       "      <th>dayofweek</th>\n",
       "      <th>hour</th>\n",
       "      <th>age</th>\n",
       "      <th>screen_list</th>\n",
       "      <th>numscreens</th>\n",
       "      <th>minigame</th>\n",
       "      <th>used_premium_feature</th>\n",
       "      <th>enrolled</th>\n",
       "      <th>liked</th>\n",
       "    </tr>\n",
       "  </thead>\n",
       "  <tbody>\n",
       "    <tr>\n",
       "      <th>0</th>\n",
       "      <td>235136</td>\n",
       "      <td>3</td>\n",
       "      <td>2</td>\n",
       "      <td>23</td>\n",
       "      <td>idscreen,joinscreen,Cycle,product_review,ScanP...</td>\n",
       "      <td>15</td>\n",
       "      <td>0</td>\n",
       "      <td>0</td>\n",
       "      <td>0</td>\n",
       "      <td>0</td>\n",
       "    </tr>\n",
       "    <tr>\n",
       "      <th>1</th>\n",
       "      <td>333588</td>\n",
       "      <td>6</td>\n",
       "      <td>1</td>\n",
       "      <td>24</td>\n",
       "      <td>joinscreen,product_review,product_review2,Scan...</td>\n",
       "      <td>13</td>\n",
       "      <td>0</td>\n",
       "      <td>0</td>\n",
       "      <td>0</td>\n",
       "      <td>0</td>\n",
       "    </tr>\n",
       "    <tr>\n",
       "      <th>2</th>\n",
       "      <td>254414</td>\n",
       "      <td>1</td>\n",
       "      <td>19</td>\n",
       "      <td>23</td>\n",
       "      <td>Splash,Cycle,Loan</td>\n",
       "      <td>3</td>\n",
       "      <td>0</td>\n",
       "      <td>1</td>\n",
       "      <td>0</td>\n",
       "      <td>1</td>\n",
       "    </tr>\n",
       "    <tr>\n",
       "      <th>3</th>\n",
       "      <td>234192</td>\n",
       "      <td>4</td>\n",
       "      <td>16</td>\n",
       "      <td>28</td>\n",
       "      <td>product_review,Home,product_review,Loan3,Finan...</td>\n",
       "      <td>40</td>\n",
       "      <td>0</td>\n",
       "      <td>0</td>\n",
       "      <td>1</td>\n",
       "      <td>0</td>\n",
       "    </tr>\n",
       "    <tr>\n",
       "      <th>4</th>\n",
       "      <td>51549</td>\n",
       "      <td>1</td>\n",
       "      <td>18</td>\n",
       "      <td>31</td>\n",
       "      <td>idscreen,joinscreen,Cycle,Credit3Container,Sca...</td>\n",
       "      <td>32</td>\n",
       "      <td>0</td>\n",
       "      <td>0</td>\n",
       "      <td>1</td>\n",
       "      <td>1</td>\n",
       "    </tr>\n",
       "  </tbody>\n",
       "</table>\n",
       "</div>"
      ],
      "text/plain": [
       "     user  dayofweek  hour  age  \\\n",
       "0  235136          3     2   23   \n",
       "1  333588          6     1   24   \n",
       "2  254414          1    19   23   \n",
       "3  234192          4    16   28   \n",
       "4   51549          1    18   31   \n",
       "\n",
       "                                         screen_list  numscreens  minigame  \\\n",
       "0  idscreen,joinscreen,Cycle,product_review,ScanP...          15         0   \n",
       "1  joinscreen,product_review,product_review2,Scan...          13         0   \n",
       "2                                  Splash,Cycle,Loan           3         0   \n",
       "3  product_review,Home,product_review,Loan3,Finan...          40         0   \n",
       "4  idscreen,joinscreen,Cycle,Credit3Container,Sca...          32         0   \n",
       "\n",
       "   used_premium_feature  enrolled  liked  \n",
       "0                     0         0      0  \n",
       "1                     0         0      0  \n",
       "2                     1         0      1  \n",
       "3                     0         1      0  \n",
       "4                     0         1      1  "
      ]
     },
     "execution_count": 63,
     "metadata": {},
     "output_type": "execute_result"
    }
   ],
   "source": [
    "dataset.head()"
   ]
  },
  {
   "cell_type": "code",
   "execution_count": null,
   "metadata": {},
   "outputs": [],
   "source": [
    "# Feature Engineering\n",
    "# Screens"
   ]
  },
  {
   "cell_type": "code",
   "execution_count": 67,
   "metadata": {},
   "outputs": [],
   "source": [
    "top_screens = pd.read_csv('/Users/vladpivovarov/Documents/Python/Udemy-2/5.Data/P39-CS3-Data/top_screens.csv').top_screens.values"
   ]
  },
  {
   "cell_type": "code",
   "execution_count": 68,
   "metadata": {},
   "outputs": [
    {
     "data": {
      "text/plain": [
       "array(['Loan2', 'location', 'Institutions', 'Credit3Container',\n",
       "       'VerifyPhone', 'BankVerification', 'VerifyDateOfBirth',\n",
       "       'ProfilePage', 'VerifyCountry', 'Cycle', 'idscreen',\n",
       "       'Credit3Dashboard', 'Loan3', 'CC1Category', 'Splash', 'Loan',\n",
       "       'CC1', 'RewardsContainer', 'Credit3', 'Credit1', 'EditProfile',\n",
       "       'Credit2', 'Finances', 'CC3', 'Saving9', 'Saving1', 'Alerts',\n",
       "       'Saving8', 'Saving10', 'Leaderboard', 'Saving4', 'VerifyMobile',\n",
       "       'VerifyHousing', 'RewardDetail', 'VerifyHousingAmount',\n",
       "       'ProfileMaritalStatus', 'ProfileChildren ', 'ProfileEducation',\n",
       "       'Saving7', 'ProfileEducationMajor', 'Rewards', 'AccountView',\n",
       "       'VerifyAnnualIncome', 'VerifyIncomeType', 'Saving2', 'Saving6',\n",
       "       'Saving2Amount', 'Saving5', 'ProfileJobTitle', 'Login',\n",
       "       'ProfileEmploymentLength', 'WebView', 'SecurityModal', 'Loan4',\n",
       "       'ResendToken', 'TransactionList', 'NetworkFailure', 'ListPicker'],\n",
       "      dtype=object)"
      ]
     },
     "execution_count": 68,
     "metadata": {},
     "output_type": "execute_result"
    }
   ],
   "source": [
    "top_screens"
   ]
  },
  {
   "cell_type": "code",
   "execution_count": 70,
   "metadata": {},
   "outputs": [],
   "source": [
    "dataset['screen_list'] = dataset.screen_list.astype(str) + ','"
   ]
  },
  {
   "cell_type": "code",
   "execution_count": 74,
   "metadata": {},
   "outputs": [],
   "source": [
    "for sc in top_screens:\n",
    "    dataset[sc] = dataset.screen_list.str.contains(sc).astype(int)\n",
    "    dataset['screen_list'] = dataset.screen_list.str.replace(sc+',','')"
   ]
  },
  {
   "cell_type": "code",
   "execution_count": 77,
   "metadata": {},
   "outputs": [],
   "source": [
    "dataset['Other'] = dataset.screen_list.str.count(',')"
   ]
  },
  {
   "cell_type": "code",
   "execution_count": 78,
   "metadata": {},
   "outputs": [],
   "source": [
    "dataset = dataset.drop(columns = ['screen_list'])"
   ]
  },
  {
   "cell_type": "code",
   "execution_count": 95,
   "metadata": {},
   "outputs": [],
   "source": [
    "#Funnels\n",
    "savings_screen = ['Saving1',\n",
    "                 'Saving2',\n",
    "                 'Saving2Amount',\n",
    "                 'Saving4',\n",
    "                 'Saving5',\n",
    "                 'Saving6',\n",
    "                 'Saving7',\n",
    "                 'Saving8',\n",
    "                 'Saving9',\n",
    "                 'Saving10']\n",
    "\n",
    "dataset['SavingsCount'] = dataset[savings_screen].sum(axis=1)\n",
    "dataset = dataset.drop(columns = savings_screen)"
   ]
  },
  {
   "cell_type": "code",
   "execution_count": 98,
   "metadata": {},
   "outputs": [],
   "source": [
    "#Funnels\n",
    "cm_screens = ['Credit1',\n",
    "                 'Credit2',\n",
    "                 'Credit3',\n",
    "                 'Credit3Container',\n",
    "                 'Credit3Dashboard']\n",
    "\n",
    "dataset['CMCount'] = dataset[cm_screens].sum(axis=1)\n",
    "dataset = dataset.drop(columns = cm_screens)"
   ]
  },
  {
   "cell_type": "code",
   "execution_count": 100,
   "metadata": {},
   "outputs": [],
   "source": [
    "#Funnels\n",
    "cc_screens = ['CC1',\n",
    "                 'CC1Category',\n",
    "                 'CC3']\n",
    "\n",
    "dataset['CCount'] = dataset[cc_screens].sum(axis=1)\n",
    "dataset = dataset.drop(columns = cc_screens)"
   ]
  },
  {
   "cell_type": "code",
   "execution_count": 102,
   "metadata": {},
   "outputs": [],
   "source": [
    "#Funnels\n",
    "loan_screens = ['Loan',\n",
    "                 'Loan2',\n",
    "                 'Loan3',\n",
    "                 'Loan4',]\n",
    "\n",
    "dataset['LoansCount'] = dataset[loan_screens].sum(axis=1)\n",
    "dataset = dataset.drop(columns = loan_screens)"
   ]
  },
  {
   "cell_type": "code",
   "execution_count": 106,
   "metadata": {},
   "outputs": [
    {
     "data": {
      "text/plain": [
       "Index(['user', 'dayofweek', 'hour', 'age', 'numscreens', 'minigame',\n",
       "       'used_premium_feature', 'enrolled', 'liked', 'location', 'Institutions',\n",
       "       'VerifyPhone', 'BankVerification', 'VerifyDateOfBirth', 'ProfilePage',\n",
       "       'VerifyCountry', 'Cycle', 'idscreen', 'Splash', 'RewardsContainer',\n",
       "       'EditProfile', 'Finances', 'Alerts', 'Leaderboard', 'VerifyMobile',\n",
       "       'VerifyHousing', 'RewardDetail', 'VerifyHousingAmount',\n",
       "       'ProfileMaritalStatus', 'ProfileChildren ', 'ProfileEducation',\n",
       "       'ProfileEducationMajor', 'Rewards', 'AccountView', 'VerifyAnnualIncome',\n",
       "       'VerifyIncomeType', 'ProfileJobTitle', 'Login',\n",
       "       'ProfileEmploymentLength', 'WebView', 'SecurityModal', 'ResendToken',\n",
       "       'TransactionList', 'NetworkFailure', 'ListPicker', 'Other',\n",
       "       'SavingsCount', 'CMCount', 'CCount', 'LoansCount'],\n",
       "      dtype='object')"
      ]
     },
     "execution_count": 106,
     "metadata": {},
     "output_type": "execute_result"
    }
   ],
   "source": [
    "dataset.columns"
   ]
  },
  {
   "cell_type": "code",
   "execution_count": 104,
   "metadata": {},
   "outputs": [
    {
     "data": {
      "text/html": [
       "<div>\n",
       "<style scoped>\n",
       "    .dataframe tbody tr th:only-of-type {\n",
       "        vertical-align: middle;\n",
       "    }\n",
       "\n",
       "    .dataframe tbody tr th {\n",
       "        vertical-align: top;\n",
       "    }\n",
       "\n",
       "    .dataframe thead th {\n",
       "        text-align: right;\n",
       "    }\n",
       "</style>\n",
       "<table border=\"1\" class=\"dataframe\">\n",
       "  <thead>\n",
       "    <tr style=\"text-align: right;\">\n",
       "      <th></th>\n",
       "      <th>user</th>\n",
       "      <th>dayofweek</th>\n",
       "      <th>hour</th>\n",
       "      <th>age</th>\n",
       "      <th>numscreens</th>\n",
       "      <th>minigame</th>\n",
       "      <th>used_premium_feature</th>\n",
       "      <th>enrolled</th>\n",
       "      <th>liked</th>\n",
       "      <th>location</th>\n",
       "      <th>...</th>\n",
       "      <th>SecurityModal</th>\n",
       "      <th>ResendToken</th>\n",
       "      <th>TransactionList</th>\n",
       "      <th>NetworkFailure</th>\n",
       "      <th>ListPicker</th>\n",
       "      <th>Other</th>\n",
       "      <th>SavingsCount</th>\n",
       "      <th>CMCount</th>\n",
       "      <th>CCount</th>\n",
       "      <th>LoansCount</th>\n",
       "    </tr>\n",
       "  </thead>\n",
       "  <tbody>\n",
       "    <tr>\n",
       "      <th>0</th>\n",
       "      <td>235136</td>\n",
       "      <td>3</td>\n",
       "      <td>2</td>\n",
       "      <td>23</td>\n",
       "      <td>15</td>\n",
       "      <td>0</td>\n",
       "      <td>0</td>\n",
       "      <td>0</td>\n",
       "      <td>0</td>\n",
       "      <td>0</td>\n",
       "      <td>...</td>\n",
       "      <td>0</td>\n",
       "      <td>0</td>\n",
       "      <td>0</td>\n",
       "      <td>0</td>\n",
       "      <td>0</td>\n",
       "      <td>7</td>\n",
       "      <td>0</td>\n",
       "      <td>0</td>\n",
       "      <td>0</td>\n",
       "      <td>1</td>\n",
       "    </tr>\n",
       "    <tr>\n",
       "      <th>1</th>\n",
       "      <td>333588</td>\n",
       "      <td>6</td>\n",
       "      <td>1</td>\n",
       "      <td>24</td>\n",
       "      <td>13</td>\n",
       "      <td>0</td>\n",
       "      <td>0</td>\n",
       "      <td>0</td>\n",
       "      <td>0</td>\n",
       "      <td>1</td>\n",
       "      <td>...</td>\n",
       "      <td>0</td>\n",
       "      <td>0</td>\n",
       "      <td>0</td>\n",
       "      <td>0</td>\n",
       "      <td>0</td>\n",
       "      <td>5</td>\n",
       "      <td>0</td>\n",
       "      <td>0</td>\n",
       "      <td>0</td>\n",
       "      <td>1</td>\n",
       "    </tr>\n",
       "    <tr>\n",
       "      <th>2</th>\n",
       "      <td>254414</td>\n",
       "      <td>1</td>\n",
       "      <td>19</td>\n",
       "      <td>23</td>\n",
       "      <td>3</td>\n",
       "      <td>0</td>\n",
       "      <td>1</td>\n",
       "      <td>0</td>\n",
       "      <td>1</td>\n",
       "      <td>0</td>\n",
       "      <td>...</td>\n",
       "      <td>0</td>\n",
       "      <td>0</td>\n",
       "      <td>0</td>\n",
       "      <td>0</td>\n",
       "      <td>0</td>\n",
       "      <td>0</td>\n",
       "      <td>0</td>\n",
       "      <td>0</td>\n",
       "      <td>0</td>\n",
       "      <td>1</td>\n",
       "    </tr>\n",
       "    <tr>\n",
       "      <th>3</th>\n",
       "      <td>234192</td>\n",
       "      <td>4</td>\n",
       "      <td>16</td>\n",
       "      <td>28</td>\n",
       "      <td>40</td>\n",
       "      <td>0</td>\n",
       "      <td>0</td>\n",
       "      <td>1</td>\n",
       "      <td>0</td>\n",
       "      <td>1</td>\n",
       "      <td>...</td>\n",
       "      <td>0</td>\n",
       "      <td>0</td>\n",
       "      <td>0</td>\n",
       "      <td>0</td>\n",
       "      <td>0</td>\n",
       "      <td>6</td>\n",
       "      <td>0</td>\n",
       "      <td>3</td>\n",
       "      <td>0</td>\n",
       "      <td>1</td>\n",
       "    </tr>\n",
       "    <tr>\n",
       "      <th>4</th>\n",
       "      <td>51549</td>\n",
       "      <td>1</td>\n",
       "      <td>18</td>\n",
       "      <td>31</td>\n",
       "      <td>32</td>\n",
       "      <td>0</td>\n",
       "      <td>0</td>\n",
       "      <td>1</td>\n",
       "      <td>1</td>\n",
       "      <td>0</td>\n",
       "      <td>...</td>\n",
       "      <td>0</td>\n",
       "      <td>0</td>\n",
       "      <td>0</td>\n",
       "      <td>0</td>\n",
       "      <td>0</td>\n",
       "      <td>10</td>\n",
       "      <td>0</td>\n",
       "      <td>2</td>\n",
       "      <td>0</td>\n",
       "      <td>1</td>\n",
       "    </tr>\n",
       "  </tbody>\n",
       "</table>\n",
       "<p>5 rows × 50 columns</p>\n",
       "</div>"
      ],
      "text/plain": [
       "     user  dayofweek  hour  age  numscreens  minigame  used_premium_feature  \\\n",
       "0  235136          3     2   23          15         0                     0   \n",
       "1  333588          6     1   24          13         0                     0   \n",
       "2  254414          1    19   23           3         0                     1   \n",
       "3  234192          4    16   28          40         0                     0   \n",
       "4   51549          1    18   31          32         0                     0   \n",
       "\n",
       "   enrolled  liked  location     ...      SecurityModal  ResendToken  \\\n",
       "0         0      0         0     ...                  0            0   \n",
       "1         0      0         1     ...                  0            0   \n",
       "2         0      1         0     ...                  0            0   \n",
       "3         1      0         1     ...                  0            0   \n",
       "4         1      1         0     ...                  0            0   \n",
       "\n",
       "   TransactionList  NetworkFailure  ListPicker  Other  SavingsCount  CMCount  \\\n",
       "0                0               0           0      7             0        0   \n",
       "1                0               0           0      5             0        0   \n",
       "2                0               0           0      0             0        0   \n",
       "3                0               0           0      6             0        3   \n",
       "4                0               0           0     10             0        2   \n",
       "\n",
       "   CCount  LoansCount  \n",
       "0       0           1  \n",
       "1       0           1  \n",
       "2       0           1  \n",
       "3       0           1  \n",
       "4       0           1  \n",
       "\n",
       "[5 rows x 50 columns]"
      ]
     },
     "execution_count": 104,
     "metadata": {},
     "output_type": "execute_result"
    }
   ],
   "source": [
    "dataset.head()"
   ]
  },
  {
   "cell_type": "code",
   "execution_count": 107,
   "metadata": {},
   "outputs": [],
   "source": [
    "dataset.to_csv('new_appdata10.csv', index=False)"
   ]
  },
  {
   "cell_type": "code",
   "execution_count": 111,
   "metadata": {},
   "outputs": [],
   "source": [
    "response = dataset['enrolled']\n",
    "dataset = dataset.drop(columns = 'enrolled')"
   ]
  },
  {
   "cell_type": "code",
   "execution_count": 113,
   "metadata": {},
   "outputs": [],
   "source": [
    "X_train, X_test, y_train, y_test = train_test_split(dataset, response, test_size=0.2, random_state=0)"
   ]
  },
  {
   "cell_type": "code",
   "execution_count": 114,
   "metadata": {},
   "outputs": [],
   "source": [
    "train_identifier = X_train['user']\n",
    "X_train = X_train.drop(columns = 'user')"
   ]
  },
  {
   "cell_type": "code",
   "execution_count": 115,
   "metadata": {},
   "outputs": [],
   "source": [
    "test_identifier = X_test['user']\n",
    "X_test = X_test.drop(columns = 'user')"
   ]
  },
  {
   "cell_type": "code",
   "execution_count": 117,
   "metadata": {},
   "outputs": [],
   "source": [
    "sc_X = StandardScaler()"
   ]
  },
  {
   "cell_type": "code",
   "execution_count": 118,
   "metadata": {},
   "outputs": [
    {
     "name": "stderr",
     "output_type": "stream",
     "text": [
      "/anaconda3/lib/python3.7/site-packages/sklearn/preprocessing/data.py:625: DataConversionWarning: Data with input dtype int64 were all converted to float64 by StandardScaler.\n",
      "  return self.partial_fit(X, y)\n",
      "/anaconda3/lib/python3.7/site-packages/sklearn/base.py:462: DataConversionWarning: Data with input dtype int64 were all converted to float64 by StandardScaler.\n",
      "  return self.fit(X, **fit_params).transform(X)\n"
     ]
    }
   ],
   "source": [
    "X_train2 = pd.DataFrame(sc_X.fit_transform(X_train))"
   ]
  },
  {
   "cell_type": "code",
   "execution_count": 121,
   "metadata": {},
   "outputs": [
    {
     "name": "stderr",
     "output_type": "stream",
     "text": [
      "/anaconda3/lib/python3.7/site-packages/ipykernel_launcher.py:1: DataConversionWarning: Data with input dtype int64 were all converted to float64 by StandardScaler.\n",
      "  \"\"\"Entry point for launching an IPython kernel.\n"
     ]
    }
   ],
   "source": [
    "X_test2 = pd.DataFrame(sc_X.transform(X_test))"
   ]
  },
  {
   "cell_type": "code",
   "execution_count": 123,
   "metadata": {},
   "outputs": [],
   "source": [
    "X_train2.columns = X_train.columns.values"
   ]
  },
  {
   "cell_type": "code",
   "execution_count": 124,
   "metadata": {},
   "outputs": [],
   "source": [
    "X_test2.columns = X_test.columns.values"
   ]
  },
  {
   "cell_type": "code",
   "execution_count": 126,
   "metadata": {},
   "outputs": [],
   "source": [
    "X_train2.index = X_train.index.values\n",
    "X_test2.index = X_test.index.values"
   ]
  },
  {
   "cell_type": "code",
   "execution_count": 130,
   "metadata": {},
   "outputs": [],
   "source": [
    "X_train = X_train2\n",
    "X_test = X_test2"
   ]
  },
  {
   "cell_type": "code",
   "execution_count": 131,
   "metadata": {},
   "outputs": [],
   "source": [
    "#Model Building"
   ]
  },
  {
   "cell_type": "code",
   "execution_count": 133,
   "metadata": {},
   "outputs": [],
   "source": [
    "classifier = LogisticRegression(random_state=0, penalty='L1')"
   ]
  },
  {
   "cell_type": "code",
   "execution_count": 134,
   "metadata": {},
   "outputs": [
    {
     "name": "stderr",
     "output_type": "stream",
     "text": [
      "/anaconda3/lib/python3.7/site-packages/sklearn/linear_model/logistic.py:433: FutureWarning: Default solver will be changed to 'lbfgs' in 0.22. Specify a solver to silence this warning.\n",
      "  FutureWarning)\n"
     ]
    },
    {
     "data": {
      "text/plain": [
       "LogisticRegression(C=1.0, class_weight=None, dual=False, fit_intercept=True,\n",
       "          intercept_scaling=1, max_iter=100, multi_class='warn',\n",
       "          n_jobs=None, penalty='l2', random_state=None, solver='warn',\n",
       "          tol=0.0001, verbose=0, warm_start=False)"
      ]
     },
     "execution_count": 134,
     "metadata": {},
     "output_type": "execute_result"
    }
   ],
   "source": [
    "classifier.fit(X_train, y_train)"
   ]
  },
  {
   "cell_type": "code",
   "execution_count": 135,
   "metadata": {},
   "outputs": [],
   "source": [
    "y_pred = classifier.predict(X_test)"
   ]
  },
  {
   "cell_type": "code",
   "execution_count": 141,
   "metadata": {},
   "outputs": [],
   "source": [
    "cm = confusion_matrix(y_test, y_pred)"
   ]
  },
  {
   "cell_type": "code",
   "execution_count": 142,
   "metadata": {},
   "outputs": [
    {
     "data": {
      "text/plain": [
       "array([[3885, 1187],\n",
       "       [1133, 3795]])"
      ]
     },
     "execution_count": 142,
     "metadata": {},
     "output_type": "execute_result"
    }
   ],
   "source": [
    "cm"
   ]
  },
  {
   "cell_type": "code",
   "execution_count": 143,
   "metadata": {},
   "outputs": [
    {
     "data": {
      "text/plain": [
       "0.768"
      ]
     },
     "execution_count": 143,
     "metadata": {},
     "output_type": "execute_result"
    }
   ],
   "source": [
    "accuracy_score(y_test, y_pred)"
   ]
  },
  {
   "cell_type": "code",
   "execution_count": 144,
   "metadata": {},
   "outputs": [
    {
     "data": {
      "text/plain": [
       "0.7617422721798475"
      ]
     },
     "execution_count": 144,
     "metadata": {},
     "output_type": "execute_result"
    }
   ],
   "source": [
    "precision_score(y_test, y_pred)"
   ]
  },
  {
   "cell_type": "code",
   "execution_count": 145,
   "metadata": {},
   "outputs": [
    {
     "data": {
      "text/plain": [
       "0.7700892857142857"
      ]
     },
     "execution_count": 145,
     "metadata": {},
     "output_type": "execute_result"
    }
   ],
   "source": [
    "recall_score(y_test, y_pred)"
   ]
  },
  {
   "cell_type": "code",
   "execution_count": 146,
   "metadata": {},
   "outputs": [
    {
     "data": {
      "text/plain": [
       "0.7658930373360243"
      ]
     },
     "execution_count": 146,
     "metadata": {},
     "output_type": "execute_result"
    }
   ],
   "source": [
    "f1_score(y_test, y_pred)"
   ]
  },
  {
   "cell_type": "code",
   "execution_count": 151,
   "metadata": {},
   "outputs": [
    {
     "name": "stdout",
     "output_type": "stream",
     "text": [
      "The Data Accuracy: 0.768\n"
     ]
    },
    {
     "data": {
      "image/png": "[encoded data removed]",
      "text/plain": [
       "<Figure size 720x504 with 2 Axes>"
      ]
     },
     "metadata": {},
     "output_type": "display_data"
    }
   ],
   "source": [
    "df_cm = pd.DataFrame(cm, index=(0,1), columns=(0,1))\n",
    "plt.figure(figsize = (10,7))\n",
    "sns.set(font_scale=1.4)\n",
    "sns.heatmap(df_cm, annot=True, fmt='g')\n",
    "print('The Data Accuracy:', accuracy_score(y_test, y_pred))"
   ]
  },
  {
   "cell_type": "code",
   "execution_count": 153,
   "metadata": {},
   "outputs": [
    {
     "name": "stderr",
     "output_type": "stream",
     "text": [
      "/anaconda3/lib/python3.7/site-packages/sklearn/linear_model/logistic.py:433: FutureWarning: Default solver will be changed to 'lbfgs' in 0.22. Specify a solver to silence this warning.\n",
      "  FutureWarning)\n",
      "/anaconda3/lib/python3.7/site-packages/sklearn/linear_model/logistic.py:433: FutureWarning: Default solver will be changed to 'lbfgs' in 0.22. Specify a solver to silence this warning.\n",
      "  FutureWarning)\n",
      "/anaconda3/lib/python3.7/site-packages/sklearn/linear_model/logistic.py:433: FutureWarning: Default solver will be changed to 'lbfgs' in 0.22. Specify a solver to silence this warning.\n",
      "  FutureWarning)\n",
      "/anaconda3/lib/python3.7/site-packages/sklearn/linear_model/logistic.py:433: FutureWarning: Default solver will be changed to 'lbfgs' in 0.22. Specify a solver to silence this warning.\n",
      "  FutureWarning)\n",
      "/anaconda3/lib/python3.7/site-packages/sklearn/linear_model/logistic.py:433: FutureWarning: Default solver will be changed to 'lbfgs' in 0.22. Specify a solver to silence this warning.\n",
      "  FutureWarning)\n",
      "/anaconda3/lib/python3.7/site-packages/sklearn/linear_model/logistic.py:433: FutureWarning: Default solver will be changed to 'lbfgs' in 0.22. Specify a solver to silence this warning.\n",
      "  FutureWarning)\n",
      "/anaconda3/lib/python3.7/site-packages/sklearn/linear_model/logistic.py:433: FutureWarning: Default solver will be changed to 'lbfgs' in 0.22. Specify a solver to silence this warning.\n",
      "  FutureWarning)\n",
      "/anaconda3/lib/python3.7/site-packages/sklearn/linear_model/logistic.py:433: FutureWarning: Default solver will be changed to 'lbfgs' in 0.22. Specify a solver to silence this warning.\n",
      "  FutureWarning)\n",
      "/anaconda3/lib/python3.7/site-packages/sklearn/linear_model/logistic.py:433: FutureWarning: Default solver will be changed to 'lbfgs' in 0.22. Specify a solver to silence this warning.\n",
      "  FutureWarning)\n",
      "/anaconda3/lib/python3.7/site-packages/sklearn/linear_model/logistic.py:433: FutureWarning: Default solver will be changed to 'lbfgs' in 0.22. Specify a solver to silence this warning.\n",
      "  FutureWarning)\n"
     ]
    }
   ],
   "source": [
    "accuracies = cross_val_score(estimator = classifier, X = X_train, y = y_train, cv=10)"
   ]
  },
  {
   "cell_type": "code",
   "execution_count": 154,
   "metadata": {},
   "outputs": [
    {
     "data": {
      "text/plain": [
       "array([0.7688078 , 0.7668083 , 0.7765    , 0.7665    , 0.765     ,\n",
       "       0.76775   , 0.7625    , 0.76725   , 0.77244311, 0.75868967])"
      ]
     },
     "execution_count": 154,
     "metadata": {},
     "output_type": "execute_result"
    }
   ],
   "source": [
    "accuracies"
   ]
  },
  {
   "cell_type": "code",
   "execution_count": 177,
   "metadata": {},
   "outputs": [
    {
     "name": "stdout",
     "output_type": "stream",
     "text": [
      "Logistics Accuracy: 0.767 (+/- 0.009)\n"
     ]
    }
   ],
   "source": [
    "print('Logistics Accuracy: %0.3f (+/- %0.3f)' % (accuracies.mean(), accuracies.std() * 2))"
   ]
  },
  {
   "cell_type": "code",
   "execution_count": 178,
   "metadata": {},
   "outputs": [],
   "source": [
    "#Model Conclusion"
   ]
  },
  {
   "cell_type": "code",
   "execution_count": 183,
   "metadata": {},
   "outputs": [
    {
     "data": {
      "text/html": [
       "<div>\n",
       "<style scoped>\n",
       "    .dataframe tbody tr th:only-of-type {\n",
       "        vertical-align: middle;\n",
       "    }\n",
       "\n",
       "    .dataframe tbody tr th {\n",
       "        vertical-align: top;\n",
       "    }\n",
       "\n",
       "    .dataframe thead th {\n",
       "        text-align: right;\n",
       "    }\n",
       "</style>\n",
       "<table border=\"1\" class=\"dataframe\">\n",
       "  <thead>\n",
       "    <tr style=\"text-align: right;\">\n",
       "      <th></th>\n",
       "      <th>user</th>\n",
       "      <th>enrolled</th>\n",
       "      <th>predicted</th>\n",
       "    </tr>\n",
       "  </thead>\n",
       "  <tbody>\n",
       "    <tr>\n",
       "      <th>0</th>\n",
       "      <td>239786</td>\n",
       "      <td>1</td>\n",
       "      <td>1</td>\n",
       "    </tr>\n",
       "    <tr>\n",
       "      <th>1</th>\n",
       "      <td>279644</td>\n",
       "      <td>1</td>\n",
       "      <td>1</td>\n",
       "    </tr>\n",
       "    <tr>\n",
       "      <th>2</th>\n",
       "      <td>98290</td>\n",
       "      <td>0</td>\n",
       "      <td>0</td>\n",
       "    </tr>\n",
       "    <tr>\n",
       "      <th>3</th>\n",
       "      <td>170150</td>\n",
       "      <td>1</td>\n",
       "      <td>1</td>\n",
       "    </tr>\n",
       "    <tr>\n",
       "      <th>4</th>\n",
       "      <td>237568</td>\n",
       "      <td>1</td>\n",
       "      <td>1</td>\n",
       "    </tr>\n",
       "    <tr>\n",
       "      <th>5</th>\n",
       "      <td>65042</td>\n",
       "      <td>1</td>\n",
       "      <td>0</td>\n",
       "    </tr>\n",
       "    <tr>\n",
       "      <th>6</th>\n",
       "      <td>207226</td>\n",
       "      <td>1</td>\n",
       "      <td>1</td>\n",
       "    </tr>\n",
       "    <tr>\n",
       "      <th>7</th>\n",
       "      <td>363062</td>\n",
       "      <td>0</td>\n",
       "      <td>0</td>\n",
       "    </tr>\n",
       "    <tr>\n",
       "      <th>8</th>\n",
       "      <td>152296</td>\n",
       "      <td>1</td>\n",
       "      <td>1</td>\n",
       "    </tr>\n",
       "    <tr>\n",
       "      <th>9</th>\n",
       "      <td>64484</td>\n",
       "      <td>0</td>\n",
       "      <td>0</td>\n",
       "    </tr>\n",
       "    <tr>\n",
       "      <th>10</th>\n",
       "      <td>38108</td>\n",
       "      <td>1</td>\n",
       "      <td>1</td>\n",
       "    </tr>\n",
       "    <tr>\n",
       "      <th>11</th>\n",
       "      <td>359940</td>\n",
       "      <td>0</td>\n",
       "      <td>0</td>\n",
       "    </tr>\n",
       "    <tr>\n",
       "      <th>12</th>\n",
       "      <td>136089</td>\n",
       "      <td>0</td>\n",
       "      <td>0</td>\n",
       "    </tr>\n",
       "    <tr>\n",
       "      <th>13</th>\n",
       "      <td>14231</td>\n",
       "      <td>1</td>\n",
       "      <td>1</td>\n",
       "    </tr>\n",
       "    <tr>\n",
       "      <th>14</th>\n",
       "      <td>216038</td>\n",
       "      <td>0</td>\n",
       "      <td>0</td>\n",
       "    </tr>\n",
       "    <tr>\n",
       "      <th>15</th>\n",
       "      <td>18918</td>\n",
       "      <td>1</td>\n",
       "      <td>1</td>\n",
       "    </tr>\n",
       "    <tr>\n",
       "      <th>16</th>\n",
       "      <td>316730</td>\n",
       "      <td>1</td>\n",
       "      <td>1</td>\n",
       "    </tr>\n",
       "    <tr>\n",
       "      <th>17</th>\n",
       "      <td>28308</td>\n",
       "      <td>1</td>\n",
       "      <td>0</td>\n",
       "    </tr>\n",
       "    <tr>\n",
       "      <th>18</th>\n",
       "      <td>228387</td>\n",
       "      <td>1</td>\n",
       "      <td>0</td>\n",
       "    </tr>\n",
       "    <tr>\n",
       "      <th>19</th>\n",
       "      <td>69640</td>\n",
       "      <td>1</td>\n",
       "      <td>1</td>\n",
       "    </tr>\n",
       "    <tr>\n",
       "      <th>20</th>\n",
       "      <td>358264</td>\n",
       "      <td>0</td>\n",
       "      <td>0</td>\n",
       "    </tr>\n",
       "    <tr>\n",
       "      <th>21</th>\n",
       "      <td>348059</td>\n",
       "      <td>0</td>\n",
       "      <td>0</td>\n",
       "    </tr>\n",
       "    <tr>\n",
       "      <th>22</th>\n",
       "      <td>178743</td>\n",
       "      <td>1</td>\n",
       "      <td>1</td>\n",
       "    </tr>\n",
       "    <tr>\n",
       "      <th>23</th>\n",
       "      <td>167556</td>\n",
       "      <td>0</td>\n",
       "      <td>0</td>\n",
       "    </tr>\n",
       "    <tr>\n",
       "      <th>24</th>\n",
       "      <td>294101</td>\n",
       "      <td>0</td>\n",
       "      <td>0</td>\n",
       "    </tr>\n",
       "    <tr>\n",
       "      <th>25</th>\n",
       "      <td>192801</td>\n",
       "      <td>0</td>\n",
       "      <td>1</td>\n",
       "    </tr>\n",
       "    <tr>\n",
       "      <th>26</th>\n",
       "      <td>163983</td>\n",
       "      <td>1</td>\n",
       "      <td>1</td>\n",
       "    </tr>\n",
       "    <tr>\n",
       "      <th>27</th>\n",
       "      <td>298830</td>\n",
       "      <td>0</td>\n",
       "      <td>0</td>\n",
       "    </tr>\n",
       "    <tr>\n",
       "      <th>28</th>\n",
       "      <td>151790</td>\n",
       "      <td>1</td>\n",
       "      <td>1</td>\n",
       "    </tr>\n",
       "    <tr>\n",
       "      <th>29</th>\n",
       "      <td>20200</td>\n",
       "      <td>1</td>\n",
       "      <td>1</td>\n",
       "    </tr>\n",
       "    <tr>\n",
       "      <th>...</th>\n",
       "      <td>...</td>\n",
       "      <td>...</td>\n",
       "      <td>...</td>\n",
       "    </tr>\n",
       "    <tr>\n",
       "      <th>9970</th>\n",
       "      <td>348989</td>\n",
       "      <td>0</td>\n",
       "      <td>1</td>\n",
       "    </tr>\n",
       "    <tr>\n",
       "      <th>9971</th>\n",
       "      <td>248593</td>\n",
       "      <td>1</td>\n",
       "      <td>0</td>\n",
       "    </tr>\n",
       "    <tr>\n",
       "      <th>9972</th>\n",
       "      <td>316086</td>\n",
       "      <td>1</td>\n",
       "      <td>1</td>\n",
       "    </tr>\n",
       "    <tr>\n",
       "      <th>9973</th>\n",
       "      <td>192540</td>\n",
       "      <td>1</td>\n",
       "      <td>1</td>\n",
       "    </tr>\n",
       "    <tr>\n",
       "      <th>9974</th>\n",
       "      <td>256833</td>\n",
       "      <td>0</td>\n",
       "      <td>0</td>\n",
       "    </tr>\n",
       "    <tr>\n",
       "      <th>9975</th>\n",
       "      <td>273991</td>\n",
       "      <td>1</td>\n",
       "      <td>1</td>\n",
       "    </tr>\n",
       "    <tr>\n",
       "      <th>9976</th>\n",
       "      <td>365937</td>\n",
       "      <td>0</td>\n",
       "      <td>0</td>\n",
       "    </tr>\n",
       "    <tr>\n",
       "      <th>9977</th>\n",
       "      <td>295129</td>\n",
       "      <td>0</td>\n",
       "      <td>0</td>\n",
       "    </tr>\n",
       "    <tr>\n",
       "      <th>9978</th>\n",
       "      <td>255715</td>\n",
       "      <td>1</td>\n",
       "      <td>0</td>\n",
       "    </tr>\n",
       "    <tr>\n",
       "      <th>9979</th>\n",
       "      <td>37332</td>\n",
       "      <td>0</td>\n",
       "      <td>1</td>\n",
       "    </tr>\n",
       "    <tr>\n",
       "      <th>9980</th>\n",
       "      <td>164886</td>\n",
       "      <td>1</td>\n",
       "      <td>1</td>\n",
       "    </tr>\n",
       "    <tr>\n",
       "      <th>9981</th>\n",
       "      <td>309967</td>\n",
       "      <td>0</td>\n",
       "      <td>1</td>\n",
       "    </tr>\n",
       "    <tr>\n",
       "      <th>9982</th>\n",
       "      <td>14907</td>\n",
       "      <td>0</td>\n",
       "      <td>0</td>\n",
       "    </tr>\n",
       "    <tr>\n",
       "      <th>9983</th>\n",
       "      <td>244737</td>\n",
       "      <td>1</td>\n",
       "      <td>1</td>\n",
       "    </tr>\n",
       "    <tr>\n",
       "      <th>9984</th>\n",
       "      <td>284862</td>\n",
       "      <td>0</td>\n",
       "      <td>1</td>\n",
       "    </tr>\n",
       "    <tr>\n",
       "      <th>9985</th>\n",
       "      <td>60719</td>\n",
       "      <td>1</td>\n",
       "      <td>1</td>\n",
       "    </tr>\n",
       "    <tr>\n",
       "      <th>9986</th>\n",
       "      <td>262103</td>\n",
       "      <td>1</td>\n",
       "      <td>0</td>\n",
       "    </tr>\n",
       "    <tr>\n",
       "      <th>9987</th>\n",
       "      <td>243679</td>\n",
       "      <td>1</td>\n",
       "      <td>1</td>\n",
       "    </tr>\n",
       "    <tr>\n",
       "      <th>9988</th>\n",
       "      <td>280000</td>\n",
       "      <td>1</td>\n",
       "      <td>1</td>\n",
       "    </tr>\n",
       "    <tr>\n",
       "      <th>9989</th>\n",
       "      <td>255074</td>\n",
       "      <td>0</td>\n",
       "      <td>0</td>\n",
       "    </tr>\n",
       "    <tr>\n",
       "      <th>9990</th>\n",
       "      <td>347521</td>\n",
       "      <td>0</td>\n",
       "      <td>0</td>\n",
       "    </tr>\n",
       "    <tr>\n",
       "      <th>9991</th>\n",
       "      <td>335029</td>\n",
       "      <td>1</td>\n",
       "      <td>0</td>\n",
       "    </tr>\n",
       "    <tr>\n",
       "      <th>9992</th>\n",
       "      <td>37271</td>\n",
       "      <td>1</td>\n",
       "      <td>0</td>\n",
       "    </tr>\n",
       "    <tr>\n",
       "      <th>9993</th>\n",
       "      <td>240006</td>\n",
       "      <td>1</td>\n",
       "      <td>1</td>\n",
       "    </tr>\n",
       "    <tr>\n",
       "      <th>9994</th>\n",
       "      <td>279449</td>\n",
       "      <td>0</td>\n",
       "      <td>1</td>\n",
       "    </tr>\n",
       "    <tr>\n",
       "      <th>9995</th>\n",
       "      <td>143036</td>\n",
       "      <td>1</td>\n",
       "      <td>0</td>\n",
       "    </tr>\n",
       "    <tr>\n",
       "      <th>9996</th>\n",
       "      <td>91158</td>\n",
       "      <td>1</td>\n",
       "      <td>1</td>\n",
       "    </tr>\n",
       "    <tr>\n",
       "      <th>9997</th>\n",
       "      <td>248318</td>\n",
       "      <td>0</td>\n",
       "      <td>0</td>\n",
       "    </tr>\n",
       "    <tr>\n",
       "      <th>9998</th>\n",
       "      <td>142418</td>\n",
       "      <td>1</td>\n",
       "      <td>1</td>\n",
       "    </tr>\n",
       "    <tr>\n",
       "      <th>9999</th>\n",
       "      <td>279355</td>\n",
       "      <td>1</td>\n",
       "      <td>1</td>\n",
       "    </tr>\n",
       "  </tbody>\n",
       "</table>\n",
       "<p>10000 rows × 3 columns</p>\n",
       "</div>"
      ],
      "text/plain": [
       "        user  enrolled  predicted\n",
       "0     239786         1          1\n",
       "1     279644         1          1\n",
       "2      98290         0          0\n",
       "3     170150         1          1\n",
       "4     237568         1          1\n",
       "5      65042         1          0\n",
       "6     207226         1          1\n",
       "7     363062         0          0\n",
       "8     152296         1          1\n",
       "9      64484         0          0\n",
       "10     38108         1          1\n",
       "11    359940         0          0\n",
       "12    136089         0          0\n",
       "13     14231         1          1\n",
       "14    216038         0          0\n",
       "15     18918         1          1\n",
       "16    316730         1          1\n",
       "17     28308         1          0\n",
       "18    228387         1          0\n",
       "19     69640         1          1\n",
       "20    358264         0          0\n",
       "21    348059         0          0\n",
       "22    178743         1          1\n",
       "23    167556         0          0\n",
       "24    294101         0          0\n",
       "25    192801         0          1\n",
       "26    163983         1          1\n",
       "27    298830         0          0\n",
       "28    151790         1          1\n",
       "29     20200         1          1\n",
       "...      ...       ...        ...\n",
       "9970  348989         0          1\n",
       "9971  248593         1          0\n",
       "9972  316086         1          1\n",
       "9973  192540         1          1\n",
       "9974  256833         0          0\n",
       "9975  273991         1          1\n",
       "9976  365937         0          0\n",
       "9977  295129         0          0\n",
       "9978  255715         1          0\n",
       "9979   37332         0          1\n",
       "9980  164886         1          1\n",
       "9981  309967         0          1\n",
       "9982   14907         0          0\n",
       "9983  244737         1          1\n",
       "9984  284862         0          1\n",
       "9985   60719         1          1\n",
       "9986  262103         1          0\n",
       "9987  243679         1          1\n",
       "9988  280000         1          1\n",
       "9989  255074         0          0\n",
       "9990  347521         0          0\n",
       "9991  335029         1          0\n",
       "9992   37271         1          0\n",
       "9993  240006         1          1\n",
       "9994  279449         0          1\n",
       "9995  143036         1          0\n",
       "9996   91158         1          1\n",
       "9997  248318         0          0\n",
       "9998  142418         1          1\n",
       "9999  279355         1          1\n",
       "\n",
       "[10000 rows x 3 columns]"
      ]
     },
     "execution_count": 183,
     "metadata": {},
     "output_type": "execute_result"
    }
   ],
   "source": [
    "final_results = pd.concat([y_test, test_identifier], axis=1).dropna()\n",
    "final_results['predicted'] = y_pred\n",
    "final_results[['user','enrolled','predicted']].reset_index(drop=True)"
   ]
  },
  {
   "cell_type": "code",
   "execution_count": null,
   "metadata": {},
   "outputs": [],
   "source": []
  },
  {
   "cell_type": "code",
   "execution_count": null,
   "metadata": {},
   "outputs": [],
   "source": []
  },
  {
   "cell_type": "code",
   "execution_count": null,
   "metadata": {},
   "outputs": [],
   "source": []
  },
  {
   "cell_type": "code",
   "execution_count": null,
   "metadata": {},
   "outputs": [],
   "source": []
  },
  {
   "cell_type": "code",
   "execution_count": null,
   "metadata": {},
   "outputs": [],
   "source": []
  },
  {
   "cell_type": "code",
   "execution_count": null,
   "metadata": {},
   "outputs": [],
   "source": []
  },
  {
   "cell_type": "code",
   "execution_count": null,
   "metadata": {},
   "outputs": [],
   "source": []
  },
  {
   "cell_type": "code",
   "execution_count": null,
   "metadata": {},
   "outputs": [],
   "source": []
  }
 ],
 "metadata": {
  "kernelspec": {
   "display_name": "Python 3",
   "language": "python",
   "name": "python3"
  },
  "language_info": {
   "codemirror_mode": {
    "name": "ipython",
    "version": 3
   },
   "file_extension": ".py",
   "mimetype": "text/x-python",
   "name": "python",
   "nbconvert_exporter": "python",
   "pygments_lexer": "ipython3",
   "version": "3.7.1"
  }
 },
 "nbformat": 4,
 "nbformat_minor": 2
}
